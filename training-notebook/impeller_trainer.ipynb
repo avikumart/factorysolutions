{
 "cells": [
  {
   "cell_type": "markdown",
   "id": "be0d68c4-ea3c-4dfa-a548-1ae5c445b550",
   "metadata": {},
   "source": [
    "# Training notebook\n",
    "## Uses Transfer Learning to train a customized 'pretrained_resnet50' model to classify impeller images as either \"OK\" or \"DEFECTIVE\"\n",
    "### To start using this\n",
    "\n",
    "1. Create the Azure Cascade Lake VM\n",
    "1. Install docker engine on this VM\n",
    "1. Clone this repository\n",
    "    ```\n",
    "    azureuser@training-instance:~$ pwd\n",
    "        /home/azureuser\n",
    "    azureuser@training-instance:~$ git clone https://github.com/scalers-ai/factorysolutions.git\n",
    "    ```\n",
    "1. Download the Kaggle dataset mentioned below and extract it into the folder containing this notebook, into a \"casting_data\" subfolder\n",
    "1. Navigate to the folder containing this notebook and run the following commands\n",
    "```\n",
    "% pip3 install poetry\n",
    "% poetry install\n",
    "% jupyter-lab # launch the notebook\n",
    "```\n",
    "\n",
    "Then load this notebook in your browser and follow through below steps"
   ]
  },
  {
   "cell_type": "code",
   "execution_count": 9,
   "id": "83362d31-9308-4a47-8a24-2a7148c98379",
   "metadata": {},
   "outputs": [],
   "source": [
    "%reload_ext autoreload\n",
    "%autoreload 2\n",
    "%matplotlib inline"
   ]
  },
  {
   "cell_type": "code",
   "execution_count": 10,
   "id": "ccc0e70e-d19a-489d-a67d-b2310d5b4ba2",
   "metadata": {},
   "outputs": [],
   "source": [
    "import os\n",
    "os.environ['DISABLE_V2_BEHAVIOR'] = '1'"
   ]
  },
  {
   "cell_type": "code",
   "execution_count": 11,
   "id": "27fbd0b3-6a8a-4d29-8ebd-2803e837525f",
   "metadata": {},
   "outputs": [],
   "source": [
    "import os\n",
    "import sys\n",
    "import ktrain\n",
    "from ktrain import vision as vis\n",
    "import time"
   ]
  },
  {
   "cell_type": "markdown",
   "id": "e6244fac-a73e-4e1d-8d08-2abc7caee2a8",
   "metadata": {},
   "source": [
    "### Download impeller dataset from Kaggle [here](https://www.kaggle.com/datasets/ravirajsinh45/real-life-industrial-dataset-of-casting-product)\n",
    "\n",
    "#### This notebook assumes that the data has been extracted into the \"casting_data/\" folder\n",
    "\n",
    "```\n",
    "ls -l casting_data/\n",
    "drwxrwxr-x 4 azureuser azureuser 4096 Mar 15 19:08 test\n",
    "drwxrwxr-x 4 azureuser azureuser 4096 Mar 15 19:08 train\n",
    "```"
   ]
  },
  {
   "cell_type": "code",
   "execution_count": 12,
   "id": "1ad44bec-0038-44bb-a782-8b4b9e6dcb49",
   "metadata": {},
   "outputs": [
    {
     "name": "stdout",
     "output_type": "stream",
     "text": [
      "Found 6633 images belonging to 2 classes.\n",
      "Found 6633 images belonging to 2 classes.\n",
      "Found 715 images belonging to 2 classes.\n",
      "The normalization scheme has been changed for use with a pretrained_resnet50 model. If you decide to use a different model, please reload your dataset with a ktrain.vision.data.images_from* function.\n",
      "\n",
      "Is Multi-Label? False\n",
      "Is Regression? False\n",
      "pretrained_resnet50 model created.\n"
     ]
    }
   ],
   "source": [
    "DATADIR = 'casting_data/'\n",
    "(train_data, val_data, preproc) = vis.images_from_folder(\n",
    "                                              datadir=DATADIR,\n",
    "                                              data_aug = vis.get_data_aug(horizontal_flip=True),\n",
    "                                              train_test_names=['train', 'test'], \n",
    "                                              target_size=(224,224), color_mode='rgb')\n",
    "model = vis.image_classifier('pretrained_resnet50', train_data, val_data, freeze_layers=15)"
   ]
  },
  {
   "cell_type": "code",
   "execution_count": 13,
   "id": "545a17a3-aa7d-4e63-8086-ec9725c4fd3f",
   "metadata": {},
   "outputs": [],
   "source": [
    "learner = ktrain.get_learner(model=model, train_data=train_data, val_data=val_data, \n",
    "                             workers=8, use_multiprocessing=False, batch_size=64)"
   ]
  },
  {
   "cell_type": "code",
   "execution_count": 14,
   "id": "33a815a4-13d2-4d2a-8f6a-9fdbbe0aaaa9",
   "metadata": {},
   "outputs": [
    {
     "name": "stdout",
     "output_type": "stream",
     "text": [
      "\n",
      "\n",
      "begin training using onecycle policy with max lr of 0.0001...\n",
      "Epoch 1/4\n",
      "104/104 [==============================] - ETA: 0s - batch: 51.5000 - size: 63.7788 - loss: 0.5546 - acc: 0.8244"
     ]
    },
    {
     "name": "stderr",
     "output_type": "stream",
     "text": [
      "/home/azureuser/.cache/pypoetry/virtualenvs/msbuild-2022-f-n7nuVc-py3.8/lib/python3.8/site-packages/keras/engine/training_v1.py:2057: UserWarning: `Model.state_updates` will be removed in a future version. This property should not be used in TensorFlow 2.0, as `updates` are applied automatically.\n",
      "  updates = self.state_updates\n"
     ]
    },
    {
     "name": "stdout",
     "output_type": "stream",
     "text": [
      "104/104 [==============================] - 681s 6s/step - batch: 51.5000 - size: 63.7788 - loss: 0.5546 - acc: 0.8244 - val_loss: 1.0804 - val_acc: 0.7189\n",
      "Epoch 2/4\n",
      "104/104 [==============================] - 673s 6s/step - batch: 51.5000 - size: 63.7788 - loss: 0.0733 - acc: 0.9786 - val_loss: 0.2125 - val_acc: 0.9455\n",
      "Epoch 3/4\n",
      "104/104 [==============================] - 673s 6s/step - batch: 51.5000 - size: 63.7788 - loss: 0.0721 - acc: 0.9845 - val_loss: 0.1499 - val_acc: 0.9580\n",
      "Epoch 4/4\n",
      "104/104 [==============================] - 673s 6s/step - batch: 51.5000 - size: 63.7788 - loss: 0.0308 - acc: 0.9911 - val_loss: 0.0317 - val_acc: 0.9874\n",
      "2702.739191055298  seconds to complete training.\n"
     ]
    }
   ],
   "source": [
    "start = time.time()\n",
    "learner.fit_onecycle(1e-4, 4)\n",
    "end = time.time()\n",
    "elapsed_time=end-start\n",
    "\n",
    "print(elapsed_time, \" seconds to complete training.\")"
   ]
  },
  {
   "cell_type": "code",
   "execution_count": 15,
   "id": "2c0b6052-e363-48fe-934d-420d267b529a",
   "metadata": {},
   "outputs": [],
   "source": [
    "predictor = ktrain.get_predictor(model, preproc)"
   ]
  },
  {
   "cell_type": "code",
   "execution_count": 16,
   "id": "7e7c3585-1430-44fd-b040-b7650ff96f1b",
   "metadata": {},
   "outputs": [],
   "source": [
    "learner.freeze()"
   ]
  },
  {
   "cell_type": "code",
   "execution_count": 17,
   "id": "f6feb14d-0c97-4569-869f-c7a9b42a3fc6",
   "metadata": {},
   "outputs": [],
   "source": [
    "predictor.save(\"impeller_casting_model\")"
   ]
  },
  {
   "cell_type": "code",
   "execution_count": 5,
   "id": "6ab3d3fd-e5ab-42ca-8375-d38e215f4d52",
   "metadata": {},
   "outputs": [
    {
     "name": "stderr",
     "output_type": "stream",
     "text": [
      "/home/ubuntu/.cache/pypoetry/virtualenvs/msbuild-2022-i8QduK1b-py3.8/lib/python3.8/site-packages/keras/engine/training_v1.py:2079: UserWarning: `Model.state_updates` will be removed in a future version. This property should not be used in TensorFlow 2.0, as `updates` are applied automatically.\n",
      "  updates=self.state_updates,\n"
     ]
    }
   ],
   "source": [
    "predictor = ktrain.load_predictor(\"impeller_casting_model\")"
   ]
  },
  {
   "cell_type": "code",
   "execution_count": 35,
   "id": "e9da2bf2-cdb4-4f78-9160-d498e9d94542",
   "metadata": {},
   "outputs": [
    {
     "data": {
      "text/plain": [
       "['cast_def_0_1059.jpeg',\n",
       " 'cast_def_0_1063.jpeg',\n",
       " 'cast_def_0_108.jpeg',\n",
       " 'cast_def_0_1096.jpeg',\n",
       " 'cast_def_0_112.jpeg',\n",
       " 'cast_def_0_1134.jpeg',\n",
       " 'cast_def_0_1136.jpeg',\n",
       " 'cast_def_0_1137.jpeg',\n",
       " 'cast_def_0_1153.jpeg',\n",
       " 'cast_def_0_1171.jpeg']"
      ]
     },
     "execution_count": 35,
     "metadata": {},
     "output_type": "execute_result"
    }
   ],
   "source": [
    "!!ls {DATADIR}/test/def_front |head -n10"
   ]
  },
  {
   "cell_type": "code",
   "execution_count": 36,
   "id": "4d5c8432-c2ef-4bed-b778-b0681af93fe4",
   "metadata": {},
   "outputs": [
    {
     "data": {
      "text/plain": [
       "<matplotlib.image.AxesImage at 0x7fa3ea13f220>"
      ]
     },
     "execution_count": 36,
     "metadata": {},
     "output_type": "execute_result"
    },
    {
     "data": {
      "image/png": "[encoded data removed]",
      "text/plain": [
       "<Figure size 432x288 with 1 Axes>"
      ]
     },
     "metadata": {
      "needs_background": "light"
     },
     "output_type": "display_data"
    }
   ],
   "source": [
    "# Test image\n",
    "vis.show_image(DATADIR+'test/def_front/cast_def_0_1134.jpeg')"
   ]
  },
  {
   "cell_type": "code",
   "execution_count": 37,
   "id": "131f6273-288b-407b-89e2-6c51843471fd",
   "metadata": {},
   "outputs": [
    {
     "data": {
      "text/plain": [
       "['def_front']"
      ]
     },
     "execution_count": 37,
     "metadata": {},
     "output_type": "execute_result"
    }
   ],
   "source": [
    "predictor.predict_filename(DATADIR+'/test/def_front/cast_def_0_1134.jpeg')"
   ]
  },
  {
   "cell_type": "code",
   "execution_count": 27,
   "id": "f027e12f-12f7-4594-b0ca-d7b5def59db5",
   "metadata": {},
   "outputs": [],
   "source": [
    "# Show explainable AI heatmap\n",
    "predictor.explain(DATADIR+'/test/def_front/cast_def_0_1134.jpeg')"
   ]
  },
  {
   "cell_type": "markdown",
   "id": "33922fb0-aecf-4af3-8cf9-3cbafebdd11f",
   "metadata": {},
   "source": [
    "### Extract sample images (60 of each class by default, can be changed)"
   ]
  },
  {
   "cell_type": "code",
   "execution_count": 29,
   "id": "857c284d-2d99-483d-9493-bf4d7bb176d9",
   "metadata": {},
   "outputs": [],
   "source": [
    "# Run this cell if you want to take a random sampe of 60 images each and run inference on those\n",
    "\n",
    "import glob, random\n",
    "\n",
    "def_sample_list = glob.glob(DATADIR+'/test/def_front/' + '*.jpeg')\n",
    "ok_sample_list = glob.glob(DATADIR+'/test/ok_front/' + '*.jpeg')\n",
    "\n",
    "def_subset = random.sample(def_sample_list, 60)\n",
    "ok_subset = random.sample(ok_sample_list, 60)\n",
    "\n",
    "from PIL import Image\n",
    "import os\n",
    "\n",
    "def save_ok_image(ok_img_filename, destination_folder_path):\n",
    "    img = Image.open(ok_img_filename)\n",
    "    img.save(destination_folder_path + '/' + os.path.basename(ok_img_filename) + \".png\")\n",
    "    return img\n",
    "\n",
    "def save_def_image(def_img_filename, destination_folder_path):\n",
    "    img = predictor.explain(def_img_filename)\n",
    "    img.save(destination_folder_path + '/' + os.path.basename(def_img_filename) + \".png\")\n",
    "    return img\n",
    "\n",
    "!mkdir ok_out def_out\n",
    "\n",
    "for i in def_subset:\n",
    "    save_def_image(i, \"./def_out/\")\n",
    "\n",
    "for i in ok_subset:\n",
    "    save_ok_image(i, \"./ok_out/\")\n"
   ]
  },
  {
   "cell_type": "markdown",
   "id": "c160c6c9",
   "metadata": {},
   "source": [
    "### Freeze Graph and Convert to ONNX"
   ]
  },
  {
   "cell_type": "code",
   "execution_count": null,
   "id": "7f5fc9c4-6f5d-4598-8b05-6e376f0e70a0",
   "metadata": {},
   "outputs": [
    {
     "name": "stdout",
     "output_type": "stream",
     "text": [
      "/usr/lib/python3.8/runpy.py:127: RuntimeWarning: 'tf2onnx.convert' found in sys.modules after import of package 'tf2onnx', but prior to execution of 'tf2onnx.convert'; this may result in unpredictable behaviour\n",
      "  warn(RuntimeWarning(msg))\n",
      "2022-04-29 05:40:44,524 - WARNING - '--tag' not specified for saved_model. Using --tag serve\n",
      "2022-04-29 05:40:48,351 - INFO - Signatures found in model: [serving_default].\n",
      "2022-04-29 05:40:48,351 - WARNING - '--signature_def' not specified, using first signature: serving_default\n",
      "2022-04-29 05:40:48,352 - INFO - Output names: ['softmax']\n",
      "WARNING:tensorflow:From /home/azureuser/.cache/pypoetry/virtualenvs/msbuild-2022-f-n7nuVc-py3.8/lib/python3.8/site-packages/tf2onnx/tf_loader.py:706: extract_sub_graph (from tensorflow.python.framework.graph_util_impl) is deprecated and will be removed in a future version.\n",
      "Instructions for updating:\n",
      "Use `tf.compat.v1.graph_util.extract_sub_graph`\n",
      "2022-04-29 05:40:49,924 - WARNING - From /home/azureuser/.cache/pypoetry/virtualenvs/msbuild-2022-f-n7nuVc-py3.8/lib/python3.8/site-packages/tf2onnx/tf_loader.py:706: extract_sub_graph (from tensorflow.python.framework.graph_util_impl) is deprecated and will be removed in a future version.\n",
      "Instructions for updating:\n",
      "Use `tf.compat.v1.graph_util.extract_sub_graph`\n",
      "2022-04-29 05:40:50,608 - INFO - Using tensorflow=2.8.0, onnx=1.11.0, tf2onnx=1.9.3/1190aa\n",
      "2022-04-29 05:40:50,608 - INFO - Using opset <onnx, 9>\n",
      "2022-04-29 05:40:54,593 - INFO - Computed 0 values for constant folding\n",
      "2022-04-29 05:40:57,355 - INFO - Optimizing ONNX model\n",
      "2022-04-29 05:40:58,590 - INFO - After optimization: Add -1 (18->17), BatchNormalization -53 (53->0), Cast -1 (1->0), Const -209 (318->109), Identity -10 (10->0), Transpose -212 (214->2)\n",
      "2022-04-29 05:40:58,667 - INFO - \n",
      "2022-04-29 05:40:58,667 - INFO - Successfully converted TensorFlow model frozen_model/ to ONNX\n",
      "2022-04-29 05:40:58,667 - INFO - Model inputs: ['input_3']\n",
      "2022-04-29 05:40:58,667 - INFO - Model outputs: ['softmax']\n",
      "2022-04-29 05:40:58,667 - INFO - ONNX model is saved at model.onnx\n"
     ]
    }
   ],
   "source": [
    "# Create Frozen Model\n",
    "\n",
    "!mkdir frozen_model\n",
    "\n",
    "import tensorflow as tf\n",
    "\n",
    "tf.saved_model.save(model, \"./frozen_model/\")\n",
    "\n",
    "# Create ONNX model and save it into \"model.onnx\"\n",
    "!python -m tf2onnx.convert --saved-model frozen_model/ --output model.onnx"
   ]
  },
  {
   "cell_type": "markdown",
   "id": "78fe2cc9",
   "metadata": {},
   "source": [
    "## Convert Model to OpenVINO\n",
    "### In a shell, launch the OpenVINO Docker Container\n",
    "\n",
    "```\n",
    "docker run -it -v /home/azureuser/factorysolutions/training-notebook:/mymodels/ openvino/ubuntu20_data_dev\n",
    "\n",
    "cd /mymodels/\n",
    "\n",
    "python3 /opt/intel/openvino_2021.4.752/deployment_tools/model_optimizer/mo.py --saved_model_dir /mymodels/frozen_model/ --input_shape [1,224,224,3]\n",
    "```\n",
    "\n",
    "Example Output\n",
    "```\n",
    "2022-05-04 02:40:22.207555: I tensorflow/core/grappler/clusters/single_machine.cc:356] Starting new session\n",
    "2022-05-04 02:40:22.207882: I tensorflow/compiler/jit/xla_gpu_device.cc:99] Not creating XLA devices, tf_xla_enable_xla_devices not set\n",
    "2022-05-04 02:40:22.226522: I tensorflow/core/platform/profile_utils/cpu_utils.cc:112] CPU Frequency: 2793435000 Hz\n",
    "2022-05-04 02:40:22.256773: I tensorflow/core/grappler/optimizers/meta_optimizer.cc:928] Optimization results for grappler item: graph_to_optimize\n",
    "  function_optimizer: Graph size after: 1203 nodes (879), 1858 edges (1534), time = 17.586ms.\n",
    "  function_optimizer: function_optimizer did nothing. time = 0.429ms.\n",
    "\n",
    "[ SUCCESS ] Generated IR version 10 model.\n",
    "[ SUCCESS ] XML file: /mymodels/saved_model.xml\n",
    "[ SUCCESS ] BIN file: /mymodels/saved_model.bin\n",
    "[ SUCCESS ] Total execution time: 20.80 seconds.\n",
    "[ SUCCESS ] Memory consumed: 1715 MB.\n",
    "```"
   ]
  },
  {
   "cell_type": "code",
   "execution_count": 2,
   "id": "bc298f7c",
   "metadata": {},
   "outputs": [
    {
     "name": "stdout",
     "output_type": "stream",
     "text": [
      "Model Optimizer arguments:\n",
      "Common parameters:\n",
      "\t- Path to the Input Model: \tNone\n",
      "\t- Path for generated IR: \t/mymodels/.\n",
      "\t- IR output name: \tsaved_model\n",
      "\t- Log level: \tERROR\n",
      "\t- Batch: \tNot specified, inherited from the model\n",
      "\t- Input layers: \tNot specified, inherited from the model\n",
      "\t- Output layers: \tNot specified, inherited from the model\n",
      "\t- Input shapes: \t[1,224,224,3]\n",
      "\t- Mean values: \tNot specified\n",
      "\t- Scale values: \tNot specified\n",
      "\t- Scale factor: \tNot specified\n",
      "\t- Precision of IR: \tFP32\n",
      "\t- Enable fusing: \tTrue\n",
      "\t- Enable grouped convolutions fusing: \tTrue\n",
      "\t- Move mean values to preprocess section: \tNone\n",
      "\t- Reverse input channels: \tFalse\n",
      "TensorFlow specific parameters:\n",
      "\t- Input model in text protobuf format: \tFalse\n",
      "\t- Path to model dump for TensorBoard: \tNone\n",
      "\t- List of shared libraries with TensorFlow custom layers implementation: \tNone\n",
      "\t- Update the configuration file with input/output node names: \tNone\n",
      "\t- Use configuration file used to generate the model with Object Detection API: \tNone\n",
      "\t- Use the config file: \tNone\n",
      "\t- Inference Engine found in: \t/opt/intel/openvino_2021.4.752/python/python3.8/openvino\n",
      "Inference Engine version: \t2021.4.2-3974-e2a469a3450-releases/2021/4\n",
      "Model Optimizer version: \t2021.4.2-3974-e2a469a3450-releases/2021/4\n",
      "2022-05-04 06:42:07.095929: W tensorflow/stream_executor/platform/default/dso_loader.cc:60] Could not load dynamic library 'libcudart.so.11.0'; dlerror: libcudart.so.11.0: cannot open shared object file: No such file or directory; LD_LIBRARY_PATH: :/opt/intel/openvino_2021.4.752/deployment_tools/model_optimizer/mo/utils/../../../inference_engine/lib/intel64:/opt/intel/openvino_2021.4.752/deployment_tools/model_optimizer/mo/utils/../../../inference_engine/external/tbb/lib:/opt/intel/openvino_2021.4.752/deployment_tools/model_optimizer/mo/utils/../../../ngraph/lib\n",
      "2022-05-04 06:42:07.095965: I tensorflow/stream_executor/cuda/cudart_stub.cc:29] Ignore above cudart dlerror if you do not have a GPU set up on your machine.\n",
      "/usr/local/lib/python3.8/dist-packages/tensorflow/python/autograph/impl/api.py:22: DeprecationWarning: the imp module is deprecated in favour of importlib; see the module's documentation for alternative uses\n",
      "  import imp\n",
      "2022-05-04 06:42:08.539917: I tensorflow/compiler/jit/xla_cpu_device.cc:41] Not creating XLA devices, tf_xla_enable_xla_devices not set\n",
      "2022-05-04 06:42:08.540161: W tensorflow/stream_executor/platform/default/dso_loader.cc:60] Could not load dynamic library 'libcuda.so.1'; dlerror: libcuda.so.1: cannot open shared object file: No such file or directory; LD_LIBRARY_PATH: :/opt/intel/openvino_2021.4.752/deployment_tools/model_optimizer/mo/utils/../../../inference_engine/lib/intel64:/opt/intel/openvino_2021.4.752/deployment_tools/model_optimizer/mo/utils/../../../inference_engine/external/tbb/lib:/opt/intel/openvino_2021.4.752/deployment_tools/model_optimizer/mo/utils/../../../ngraph/lib\n",
      "2022-05-04 06:42:08.540180: W tensorflow/stream_executor/cuda/cuda_driver.cc:326] failed call to cuInit: UNKNOWN ERROR (303)\n",
      "2022-05-04 06:42:08.540210: I tensorflow/stream_executor/cuda/cuda_diagnostics.cc:156] kernel driver does not appear to be running on this host (39afe0a86159): /proc/driver/nvidia/version does not exist\n",
      "2022-05-04 06:42:08.540390: I tensorflow/core/platform/cpu_feature_guard.cc:142] This TensorFlow binary is optimized with oneAPI Deep Neural Network Library (oneDNN) to use the following CPU instructions in performance-critical operations:  AVX2 AVX512F FMA\n",
      "To enable them in other operations, rebuild TensorFlow with the appropriate compiler flags.\n",
      "2022-05-04 06:42:08.541956: I tensorflow/compiler/jit/xla_gpu_device.cc:99] Not creating XLA devices, tf_xla_enable_xla_devices not set\n",
      "2022-05-04 06:42:12.267492: I tensorflow/core/grappler/devices.cc:69] Number of eligible GPUs (core count >= 8, compute capability >= 0.0): 0\n",
      "2022-05-04 06:42:12.267659: I tensorflow/core/grappler/clusters/single_machine.cc:356] Starting new session\n",
      "2022-05-04 06:42:12.268013: I tensorflow/compiler/jit/xla_gpu_device.cc:99] Not creating XLA devices, tf_xla_enable_xla_devices not set\n",
      "2022-05-04 06:42:12.286487: I tensorflow/core/platform/profile_utils/cpu_utils.cc:112] CPU Frequency: 2793435000 Hz\n",
      "2022-05-04 06:42:12.316587: I tensorflow/core/grappler/optimizers/meta_optimizer.cc:928] Optimization results for grappler item: graph_to_optimize\n",
      "  function_optimizer: Graph size after: 1203 nodes (879), 1858 edges (1534), time = 16.986ms.\n",
      "  function_optimizer: function_optimizer did nothing. time = 0.326ms.\n",
      "\n",
      "[ SUCCESS ] Generated IR version 10 model.\n",
      "[ SUCCESS ] XML file: /mymodels/saved_model.xml\n",
      "[ SUCCESS ] BIN file: /mymodels/saved_model.bin\n",
      "[ SUCCESS ] Total execution time: 20.98 seconds. \n",
      "[ SUCCESS ] Memory consumed: 1716 MB. \n",
      "It's been a while, check for a new version of Intel(R) Distribution of OpenVINO(TM) toolkit here https://software.intel.com/content/www/us/en/develop/tools/openvino-toolkit/download.html?cid=other&source=prod&campid=ww_2022_bu_IOTG_OpenVINO-2022-1&content=upg_all&medium=organic or on the GitHub*\n"
     ]
    }
   ],
   "source": [
    "!docker run -it -v /home/azureuser/factorysolutions/training-notebook:/mymodels/ openvino/ubuntu20_data_dev bash -c \"cd /mymodels/; python3 /opt/intel/openvino_2021.4.752/deployment_tools/model_optimizer/mo.py --saved_model_dir /mymodels/frozen_model/ --input_shape [1,224,224,3]\""
   ]
  },
  {
   "cell_type": "code",
   "execution_count": null,
   "id": "fa26bdf7-8a96-4c43-8829-f4cfb01e8255",
   "metadata": {},
   "outputs": [],
   "source": []
  }
 ],
 "metadata": {
  "kernelspec": {
   "display_name": "Python 3 (ipykernel)",
   "language": "python",
   "name": "python3"
  },
  "language_info": {
   "codemirror_mode": {
    "name": "ipython",
    "version": 3
   },
   "file_extension": ".py",
   "mimetype": "text/x-python",
   "name": "python",
   "nbconvert_exporter": "python",
   "pygments_lexer": "ipython3",
   "version": "3.8.10"
  }
 },
 "nbformat": 4,
 "nbformat_minor": 5
}
